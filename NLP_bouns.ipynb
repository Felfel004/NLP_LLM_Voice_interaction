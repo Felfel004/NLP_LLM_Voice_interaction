{
 "cells": [
  {
   "cell_type": "code",
   "execution_count": 34,
   "metadata": {},
   "outputs": [],
   "source": [
    "import requests\n",
    "import speech_recognition as sr\n",
    "import pyttsx3\n"
   ]
  },
  {
   "cell_type": "code",
   "execution_count": 35,
   "metadata": {},
   "outputs": [],
   "source": [
    "def get_voice_input():\n",
    "    recognizer = sr.Recognizer()\n",
    "    mic = sr.Microphone()\n",
    "\n",
    "    with mic as source:\n",
    "        print(\"🎤 Speak your prompt...\")\n",
    "        recognizer.adjust_for_ambient_noise(source)\n",
    "        audio = recognizer.listen(source)\n",
    "\n",
    "    try:\n",
    "        text = recognizer.recognize_google(audio)\n",
    "        print(f\"📝 You said: {text}\")\n",
    "        return text\n",
    "    except Exception as e:\n",
    "        print(f\"❌ Error: {e}\")\n",
    "        return None"
   ]
  },
  {
   "cell_type": "code",
   "execution_count": 36,
   "metadata": {},
   "outputs": [],
   "source": [
    "def ask_local_llm(prompt):\n",
    "    url = \"http://localhost:1234/v1/chat/completions\"\n",
    "    headers = {\"Content-Type\": \"application/json\"}\n",
    "    data = {\n",
    "        \"messages\": [{\"role\": \"user\", \"content\": prompt}],\n",
    "        \"temperature\": 0.7,\n",
    "        \"max_tokens\": 512,\n",
    "        \"stop\": None,\n",
    "        \"model\": \"mistral-7b-instruct-v0.1.Q4_0.gguf\"\n",
    "    }\n",
    "\n",
    "    response = requests.post(url, headers=headers, json=data)\n",
    "    reply = response.json()['choices'][0]['message']['content']\n",
    "    return reply\n"
   ]
  },
  {
   "cell_type": "code",
   "execution_count": 37,
   "metadata": {},
   "outputs": [],
   "source": [
    "def speak_text(text):\n",
    "    engine = pyttsx3.init()\n",
    "    engine.setProperty('rate', 160)\n",
    "    engine.say(text)\n",
    "    engine.runAndWait()"
   ]
  },
  {
   "cell_type": "code",
   "execution_count": null,
   "metadata": {},
   "outputs": [
    {
     "name": "stdout",
     "output_type": "stream",
     "text": [
      "🎤 Speak your prompt...\n",
      "📝 You said: I'm just to download it let me study what is LM studio and how it work\n",
      "\n",
      "🤖 LLM says:\n",
      "LM Studio is a software platform for creating and managing virtual environments, specifically designed for the development of machine learning models. It provides a user-friendly interface for preparing and training machine learning models, as well as tools for data processing, feature engineering, model selection, and deployment. LM Studio also includes prebuilt templates and examples to help users get started quickly and easily.\n",
      "\n",
      "To use LM Studio, you will first need to install it on your computer or server. Once installed, you can create a new project within the software and import your data. From there, you can use the built-in tools to preprocess the data, select appropriate machine learning algorithms, and train the models.\n",
      "\n",
      "LM Studio also offers features for model evaluation and selection, as well as deployment to production environments. Additionally, LM Studio integrates with popular cloud platforms such as AWS and Azure, making it easy to deploy models to these environments.\n",
      "\n",
      "Overall, LM Studio is a powerful tool for developing and managing machine learning workflows, providing a streamlined process for creating, training, and deploying machine learning models.\n",
      "\n"
     ]
    }
   ],
   "source": [
    "def main():\n",
    "    prompt = get_voice_input()\n",
    "    if prompt:\n",
    "        response = ask_local_llm(prompt)\n",
    "        print(f\"\\n🤖 LLM says:\\n{response}\\n\")\n",
    "        speak_text(response)\n",
    "\n",
    "if __name__ == \"__main__\":\n",
    "    main()"
   ]
  }
 ],
 "metadata": {
  "kernelspec": {
   "display_name": "dl",
   "language": "python",
   "name": "python3"
  },
  "language_info": {
   "codemirror_mode": {
    "name": "ipython",
    "version": 3
   },
   "file_extension": ".py",
   "mimetype": "text/x-python",
   "name": "python",
   "nbconvert_exporter": "python",
   "pygments_lexer": "ipython3",
   "version": "3.11.10"
  }
 },
 "nbformat": 4,
 "nbformat_minor": 2
}
